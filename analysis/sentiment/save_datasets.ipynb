{
 "cells": [
  {
   "cell_type": "code",
   "execution_count": 4,
   "id": "4b1a9a54",
   "metadata": {},
   "outputs": [],
   "source": [
    "import pickle\n",
    "import pytreebank\n",
    "\n",
    "sst = pytreebank.load_sst()\n",
    "sst = sst[\"train\"] + sst[\"dev\"] + sst[\"test\"]\n",
    "hard_split = pickle.load(open(\"hard_splits/hard_split_metric=bcm-pp_bottleneck=size.pickle\", 'rb'))"
   ]
  },
  {
   "cell_type": "code",
   "execution_count": 5,
   "id": "ded91655",
   "metadata": {},
   "outputs": [
    {
     "data": {
      "text/plain": [
       "dict_keys(['compositional', 'non-compositional', 'random'])"
      ]
     },
     "execution_count": 5,
     "metadata": {},
     "output_type": "execute_result"
    }
   ],
   "source": [
    "hard_split.keys()"
   ]
  },
  {
   "cell_type": "code",
   "execution_count": 13,
   "id": "c44aaabc",
   "metadata": {},
   "outputs": [],
   "source": [
    "train, validation, test = hard_split[\"non-compositional\"]\n",
    "train = [sst[i] for i in train]\n",
    "validation = [sst[i] for i in validation]\n",
    "test = [sst[i] for i in test]\n",
    "\n",
    "def write_to_file(dataset, name):\n",
    "    with open(name, 'w', encoding=\"utf-8\") as f:\n",
    "        f.write(\"input\\tlabel\\n\")\n",
    "        for l in dataset:\n",
    "            f.write(f\"{str(l)}\\t{l.label}\\n\")\n",
    "\n",
    "write_to_file(train, \"train_noncompositional.tsv\")\n",
    "write_to_file(validation, \"validation_noncompositional.tsv\")\n",
    "write_to_file(test, \"test_noncompositional.tsv\")"
   ]
  },
  {
   "cell_type": "code",
   "execution_count": null,
   "id": "77dab54d",
   "metadata": {},
   "outputs": [],
   "source": []
  }
 ],
 "metadata": {
  "kernelspec": {
   "display_name": "Python 3 (ipykernel)",
   "language": "python",
   "name": "python3"
  },
  "language_info": {
   "codemirror_mode": {
    "name": "ipython",
    "version": 3
   },
   "file_extension": ".py",
   "mimetype": "text/x-python",
   "name": "python",
   "nbconvert_exporter": "python",
   "pygments_lexer": "ipython3",
   "version": "3.9.13"
  }
 },
 "nbformat": 4,
 "nbformat_minor": 5
}
