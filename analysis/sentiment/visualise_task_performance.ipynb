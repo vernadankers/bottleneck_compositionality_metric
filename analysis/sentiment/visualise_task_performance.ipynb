{
 "cells": [
  {
   "cell_type": "code",
   "execution_count": 1,
   "id": "19c5309a",
   "metadata": {},
   "outputs": [],
   "source": [
    "import sklearn.metrics\n",
    "from collections import defaultdict\n",
    "import pickle\n",
    "import numpy as np\n",
    "import seaborn as sns\n",
    "import matplotlib.pyplot as plt\n",
    "\n",
    "sns.set_context(\"talk\")\n",
    "\n",
    "setups = [(\"size\", [150, 125, 100, 75, 50, 25, 10, 5]),\n",
    "          (\"dropout\", [0, 0.1, 0.25, 0.5, 0.65, 0.75, 0.85, 0.9]),\n",
    "          (\"beta\", [0, 2.5e-05, 0.000625, 0.00125, 0.0025, 0.00625, 0.0125, 0.025])]"
   ]
  },
  {
   "cell_type": "markdown",
   "id": "e1ecc550",
   "metadata": {},
   "source": [
    "### 1. Visualise main task performance, Figure 5 in Section 5"
   ]
  },
  {
   "cell_type": "code",
   "execution_count": 4,
   "id": "7fdd7a7d",
   "metadata": {},
   "outputs": [
    {
     "ename": "FileNotFoundError",
     "evalue": "[Errno 2] No such file or directory: '../../tree_lstms/checkpoints/sentiment/treelstm_bottleneck_seed=1/setup=regular/test_beta=0.0.pickle'",
     "output_type": "error",
     "traceback": [
      "\u001b[0;31m---------------------------------------------------------------------------\u001b[0m",
      "\u001b[0;31mFileNotFoundError\u001b[0m                         Traceback (most recent call last)",
      "Cell \u001b[0;32mIn [4], line 24\u001b[0m\n\u001b[1;32m     22\u001b[0m     \u001b[38;5;28;01melse\u001b[39;00m:\n\u001b[1;32m     23\u001b[0m         model \u001b[38;5;241m=\u001b[39m \u001b[38;5;124mf\u001b[39m\u001b[38;5;124m\"\u001b[39m\u001b[38;5;132;01m{\u001b[39;00mprefix\u001b[38;5;132;01m}\u001b[39;00m\u001b[38;5;124m=\u001b[39m\u001b[38;5;132;01m{\u001b[39;00mseed\u001b[38;5;132;01m}\u001b[39;00m\u001b[38;5;124m/setup=regular/test_\u001b[39m\u001b[38;5;132;01m{\u001b[39;00msetup\u001b[38;5;132;01m}\u001b[39;00m\u001b[38;5;124m=\u001b[39m\u001b[38;5;132;01m{\u001b[39;00mbeta\u001b[38;5;132;01m}\u001b[39;00m\u001b[38;5;124m.pickle\u001b[39m\u001b[38;5;124m\"\u001b[39m\n\u001b[0;32m---> 24\u001b[0m accuracy, f1 \u001b[38;5;241m=\u001b[39m \u001b[43mload\u001b[49m\u001b[43m(\u001b[49m\u001b[43mmodel\u001b[49m\u001b[43m)\u001b[49m\n\u001b[1;32m     25\u001b[0m x\u001b[38;5;241m.\u001b[39mappend(i)\n\u001b[1;32m     26\u001b[0m y_acc\u001b[38;5;241m.\u001b[39mappend(accuracy)\n",
      "Cell \u001b[0;32mIn [4], line 2\u001b[0m, in \u001b[0;36mload\u001b[0;34m(filename)\u001b[0m\n\u001b[1;32m      1\u001b[0m \u001b[38;5;28;01mdef\u001b[39;00m \u001b[38;5;21mload\u001b[39m(filename):\n\u001b[0;32m----> 2\u001b[0m     sentences, labels, test_pred, _, hidden \u001b[38;5;241m=\u001b[39m pickle\u001b[38;5;241m.\u001b[39mload(\u001b[38;5;28;43mopen\u001b[39;49m\u001b[43m(\u001b[49m\u001b[43mfilename\u001b[49m\u001b[43m,\u001b[49m\u001b[43m \u001b[49m\u001b[38;5;124;43m'\u001b[39;49m\u001b[38;5;124;43mrb\u001b[39;49m\u001b[38;5;124;43m'\u001b[39;49m\u001b[43m)\u001b[49m)\n\u001b[1;32m      3\u001b[0m     test_pred\u001b[38;5;241m=\u001b[39m[np\u001b[38;5;241m.\u001b[39margmax(x) \u001b[38;5;28;01mfor\u001b[39;00m x \u001b[38;5;129;01min\u001b[39;00m test_pred]\n\u001b[1;32m      4\u001b[0m     accuracy \u001b[38;5;241m=\u001b[39m sklearn\u001b[38;5;241m.\u001b[39mmetrics\u001b[38;5;241m.\u001b[39maccuracy_score(labels, [x \u001b[38;5;28;01mfor\u001b[39;00m x \u001b[38;5;129;01min\u001b[39;00m test_pred])\n",
      "\u001b[0;31mFileNotFoundError\u001b[0m: [Errno 2] No such file or directory: '../../tree_lstms/checkpoints/sentiment/treelstm_bottleneck_seed=1/setup=regular/test_beta=0.0.pickle'"
     ]
    },
    {
     "data": {
      "text/plain": [
       "<Figure size 500x500 with 0 Axes>"
      ]
     },
     "metadata": {},
     "output_type": "display_data"
    }
   ],
   "source": [
    "def load(filename):\n",
    "    sentences, labels, test_pred, _, hidden = pickle.load(open(filename, 'rb'))\n",
    "    test_pred=[np.argmax(x) for x in test_pred]\n",
    "    accuracy = sklearn.metrics.accuracy_score(labels, [x for x in test_pred])\n",
    "    f1 = sklearn.metrics.f1_score(labels, [x for x in test_pred], average=\"macro\")\n",
    "    return round(accuracy, 2), round(f1, 2)\n",
    "\n",
    "plt.figure(figsize=(5, 5))\n",
    "blue = sns.color_palette(\"crest_r\", 3)[0]\n",
    "purple = sns.color_palette(\"flare_r\", 3)[0]\n",
    "\n",
    "for setup, weights in setups:\n",
    "    x, y_acc, y_f1, y_bl_acc, y_bl_f1, y2_acc, y2_f1 = [], [], [], [], [], [], []\n",
    "    for i, beta in enumerate(weights):\n",
    "        for seed in [1, 2, 3, 4, 5, 6, 7, 8, 9, 10]:\n",
    "            prefix = \"../../tree_lstms/checkpoints/sentiment/treelstm_bottleneck_seed\"\n",
    "            if i == 0:\n",
    "                model = f\"{prefix}={seed}/setup=regular/test_beta=0.0.pickle\"\n",
    "            else:\n",
    "                if setup == \"beta\":\n",
    "                    model = f\"{prefix}={seed}/setup=regular/test_{setup}={beta}.pickle\"\n",
    "                else:\n",
    "                    model = f\"{prefix}={seed}/setup=regular/test_{setup}={beta}.pickle\"\n",
    "            accuracy, f1 = load(model)\n",
    "            x.append(i)\n",
    "            y_acc.append(accuracy)\n",
    "            y_f1.append(f1)\n",
    "\n",
    "            if i == 0:\n",
    "                model = f\"{prefix}={seed}/setup=regular/test_beta=0.0.pickle\"\n",
    "            else:\n",
    "                if setup == \"beta\":\n",
    "                    model = f\"{prefix}={seed}/setup=regular/test_taught_{setup}={beta}.pickle\"\n",
    "                else:\n",
    "                    model = f\"{prefix}={seed}/setup=regular/test_taught_{setup}={beta}.pickle\"\n",
    "                accuracy, f1 = load(model)\n",
    "            y2_acc.append(accuracy)\n",
    "            y2_f1.append(f1)            \n",
    "\n",
    "            model = f\"../../tree_lstms/checkpoints/sentiment/baseline_seed={seed}/test_beta=0.0.pickle\"\n",
    "            accuracy, f1 = load(model)\n",
    "            y_bl_acc.append(accuracy)\n",
    "            y_bl_f1.append(f1)\n",
    "\n",
    "    plt.figure(figsize=(3.5, 3.5))\n",
    "    ax = sns.lineplot(x=x, y=y_acc, color=blue, linewidth=4, label=\"BCM-PP\")\n",
    "    sns.lineplot(x=x, y=y2_acc, color=purple, label=\"BCM-TT\")\n",
    "    sns.lineplot(x=x, y=y_f1, color=blue, ax=ax, linestyle=\"--\", linewidth=3)\n",
    "    sns.lineplot(x=x, y=y2_f1, color=purple, ax=ax, linestyle=\"--\")\n",
    "    sns.lineplot(x=x, y=y_bl_acc, color=\"grey\", ax=ax, err_style=None, zorder=-1)\n",
    "    sns.lineplot(x=x, y=y_bl_f1, color=\"grey\", ax=ax, linestyle=\"--\", err_style=None, zorder=-1)\n",
    "\n",
    "    ax.set_xticks([0, 1, 2, 3, 4, 5, 6, 7])\n",
    "    ax.set_xticklabels([str(w).replace(\"0.\", \".\") for w in weights], rotation=90)\n",
    "    if setup != \"beta\":\n",
    "        plt.yticks([])\n",
    "        plt.ylabel(\"\")\n",
    "    else:\n",
    "        plt.ylabel(\"performance\")\n",
    "    if setup != \"size\":\n",
    "        plt.legend([], [], frameon=False)\n",
    "    else:\n",
    "        plt.legend(fontsize=14, frameon=False)\n",
    "    plt.xlabel(setup.replace(\"beta\", r\"$\\beta$\"))\n",
    "    # plt.text(3.9, 0.503, \"Tai et al.\", fontsize=10)\n",
    "    if setup == \"dropout\":\n",
    "        plt.text(0.06, 0.37, \"sentiment-only baseline\", fontsize=11)\n",
    "    plt.ylim(0.25, 0.56)\n",
    "    plt.xlim(0, 7)\n",
    "    plt.savefig(f\"figures/performance_{setup}.pdf\", bbox_inches=\"tight\")\n",
    "    plt.show()"
   ]
  },
  {
   "cell_type": "markdown",
   "id": "41d7903f",
   "metadata": {},
   "source": [
    "## 2. Visualise performance on hard and small splits, Figure 9 in Section 5 and Ap. B"
   ]
  },
  {
   "cell_type": "code",
   "execution_count": 3,
   "id": "fe162216",
   "metadata": {},
   "outputs": [
    {
     "name": "stdout",
     "output_type": "stream",
     "text": [
      "Roberta& .546 & .535& .516 & .487& .565 & .549\\\\\n",
      "LSTM& .505 & .485& .394 & .310& .478 & .447\\\\\n"
     ]
    }
   ],
   "source": [
    "\n",
    "\n",
    "def clean(s):\n",
    "    s = s.replace(\"(5\", \"\").replace(\"(4\", \"\").replace(\n",
    "        \"(3\",\"\").replace(\"(2\", \"\").replace(\"(1\", \"\").replace(\"(0\", \"\").replace(\")\", \"\")\n",
    "    s = s.replace(\"( 5\", \"\").replace(\"( 4\", \"\").replace(\n",
    "        \"( 3\",\"\").replace(\"( 2\", \"\").replace(\"( 1\", \"\").replace(\"( 0\", \"\").replace(\")\", \"\")\n",
    "    return ' '.join(s.split())\n",
    "\n",
    "\n",
    "def load(filename):\n",
    "    sentences, labels, test_pred = pickle.load(open(filename, 'rb'))\n",
    "    accuracy = sklearn.metrics.accuracy_score(labels, test_pred)\n",
    "    f1 = sklearn.metrics.f1_score(labels, test_pred, average=\"macro\")\n",
    "    return test_pred, accuracy, f1\n",
    "\n",
    "\n",
    "for bottleneck in [\"size\"]:\n",
    "    for metric in [\"bcm-pp\",]:\n",
    "        for model in [\"Roberta\", \"LSTM\"]:\n",
    "            str_ = model\n",
    "            for setup in [\"compositional\", \"non-compositional\", \"random\"]:\n",
    "                accs = []\n",
    "                f1s = []\n",
    "                for seed in [1, 2, 3, 4, 5]:\n",
    "                    path = f\"../../sentiment_training/checkpoints/sentiment_{model}_{setup}_seed={seed}_hard_splits/hard_split_metric={metric}_bottleneck={bottleneck}\"\n",
    "                    _, acc, f1 = load(\n",
    "                        f\"{path}/test.pickle\")\n",
    "                    accs.append(acc)\n",
    "                    f1s.append(f1)\n",
    "                acc = np.mean(accs)\n",
    "                f1 = np.mean(f1s)\n",
    "                str_ += f\"& {acc:.3f} & {f1:.3f}\".replace('0.', '.')\n",
    "            str_ += \"\\\\\\\\\"\n",
    "            print(str_)\n",
    "    "
   ]
  },
  {
   "cell_type": "code",
   "execution_count": 4,
   "id": "82e032a2",
   "metadata": {},
   "outputs": [
    {
     "ename": "FileNotFoundError",
     "evalue": "[Errno 2] No such file or directory: '../../sentiment_training/checkpoints/sentiment_Roberta_side=non-compositional_ratio=0.1_seed=1_subsets/subsets_metric=bcm-pp_bottleneck=size/test.pickle'",
     "output_type": "error",
     "traceback": [
      "\u001b[0;31m---------------------------------------------------------------------------\u001b[0m",
      "\u001b[0;31mFileNotFoundError\u001b[0m                         Traceback (most recent call last)",
      "Cell \u001b[0;32mIn [4], line 15\u001b[0m\n\u001b[1;32m     13\u001b[0m y_comp_f1\u001b[38;5;241m.\u001b[39mappend(f1)\n\u001b[1;32m     14\u001b[0m model2 \u001b[38;5;241m=\u001b[39m \u001b[38;5;124mf\u001b[39m\u001b[38;5;124m\"\u001b[39m\u001b[38;5;124m../../sentiment_training/checkpoints/sentiment_\u001b[39m\u001b[38;5;132;01m{\u001b[39;00mmodel\u001b[38;5;132;01m}\u001b[39;00m\u001b[38;5;124m_side=non-compositional_ratio=\u001b[39m\u001b[38;5;132;01m{\u001b[39;00mratio\u001b[38;5;132;01m}\u001b[39;00m\u001b[38;5;124m_seed=\u001b[39m\u001b[38;5;132;01m{\u001b[39;00mseed\u001b[38;5;132;01m}\u001b[39;00m\u001b[38;5;124m_subsets\u001b[39m\u001b[38;5;124m\"\u001b[39m\n\u001b[0;32m---> 15\u001b[0m b, acc, f1 \u001b[38;5;241m=\u001b[39m \u001b[43mload\u001b[49m\u001b[43m(\u001b[49m\u001b[38;5;124;43mf\u001b[39;49m\u001b[38;5;124;43m\"\u001b[39;49m\u001b[38;5;132;43;01m{\u001b[39;49;00m\u001b[43mmodel2\u001b[49m\u001b[38;5;132;43;01m}\u001b[39;49;00m\u001b[38;5;124;43m/subsets_metric=\u001b[39;49m\u001b[38;5;132;43;01m{\u001b[39;49;00m\u001b[43mmetric\u001b[49m\u001b[38;5;132;43;01m}\u001b[39;49;00m\u001b[38;5;124;43m_bottleneck=\u001b[39;49m\u001b[38;5;132;43;01m{\u001b[39;49;00m\u001b[43mbottleneck\u001b[49m\u001b[38;5;132;43;01m}\u001b[39;49;00m\u001b[38;5;124;43m/test.pickle\u001b[39;49m\u001b[38;5;124;43m\"\u001b[39;49m\u001b[43m)\u001b[49m\n\u001b[1;32m     16\u001b[0m y_noncomp_acc\u001b[38;5;241m.\u001b[39mappend(acc)\n\u001b[1;32m     17\u001b[0m y_noncomp_f1\u001b[38;5;241m.\u001b[39mappend(f1)\n",
      "Cell \u001b[0;32mIn [3], line 10\u001b[0m, in \u001b[0;36mload\u001b[0;34m(filename)\u001b[0m\n\u001b[1;32m      9\u001b[0m \u001b[38;5;28;01mdef\u001b[39;00m \u001b[38;5;21mload\u001b[39m(filename):\n\u001b[0;32m---> 10\u001b[0m     sentences, labels, test_pred \u001b[38;5;241m=\u001b[39m pickle\u001b[38;5;241m.\u001b[39mload(\u001b[38;5;28;43mopen\u001b[39;49m\u001b[43m(\u001b[49m\u001b[43mfilename\u001b[49m\u001b[43m,\u001b[49m\u001b[43m \u001b[49m\u001b[38;5;124;43m'\u001b[39;49m\u001b[38;5;124;43mrb\u001b[39;49m\u001b[38;5;124;43m'\u001b[39;49m\u001b[43m)\u001b[49m)\n\u001b[1;32m     11\u001b[0m     accuracy \u001b[38;5;241m=\u001b[39m sklearn\u001b[38;5;241m.\u001b[39mmetrics\u001b[38;5;241m.\u001b[39maccuracy_score(labels, test_pred)\n\u001b[1;32m     12\u001b[0m     f1 \u001b[38;5;241m=\u001b[39m sklearn\u001b[38;5;241m.\u001b[39mmetrics\u001b[38;5;241m.\u001b[39mf1_score(labels, test_pred, average\u001b[38;5;241m=\u001b[39m\u001b[38;5;124m\"\u001b[39m\u001b[38;5;124mmacro\u001b[39m\u001b[38;5;124m\"\u001b[39m)\n",
      "\u001b[0;31mFileNotFoundError\u001b[0m: [Errno 2] No such file or directory: '../../sentiment_training/checkpoints/sentiment_Roberta_side=non-compositional_ratio=0.1_seed=1_subsets/subsets_metric=bcm-pp_bottleneck=size/test.pickle'"
     ]
    }
   ],
   "source": [
    "\n",
    "ratios = [0.01, 0.05, 0.1, 0.2, 0.3, 0.4, 0.5]\n",
    "for model in [\"Roberta\", \"LSTM\" ]:\n",
    "    for metric in [\"bcm-pp\", \"bcm-tt\"]:\n",
    "        for bottleneck in [\"size\", \"dropout\", \"beta\"]:\n",
    "            x, y_comp_acc, y_comp_f1, y_noncomp_acc, y_noncomp_f1 = [], [], [], [], []\n",
    "            seeds = [1, 2, 3, 4, 5]\n",
    "            for seed in seeds:\n",
    "                for ratio in ratios:\n",
    "                    model2 = f\"../../sentiment_training/checkpoints/sentiment_{model}_side=compositional_ratio={ratio}_seed={seed}_subsets\"\n",
    "                    a, acc, f1 = load(\n",
    "                            f\"{model2}/subsets_metric={metric}_bottleneck={bottleneck}/test.pickle\")\n",
    "                    y_comp_acc.append(acc)\n",
    "                    y_comp_f1.append(f1)\n",
    "                    model2 = f\"../../sentiment_training/checkpoints/sentiment_{model}_side=non-compositional_ratio={ratio}_seed={seed}_subsets\"\n",
    "                    b, acc, f1 = load(f\"{model2}/subsets_metric={metric}_bottleneck={bottleneck}/test.pickle\")\n",
    "                    y_noncomp_acc.append(acc)\n",
    "                    y_noncomp_f1.append(f1)\n",
    "                    x.append(ratio)\n",
    "\n",
    "            plt.figure(figsize=(5, 4))\n",
    "            colors = sns.color_palette(\"crest\", 3)\n",
    "            blue = colors[-1]\n",
    "            green = colors[0]\n",
    "            ax1 = sns.lineplot(x=x, y=y_comp_acc, color=blue, label=\"comp.\")\n",
    "            ax2 = sns.lineplot(x=x, y=y_noncomp_acc, color=green, label=\"non-comp.\")\n",
    "            ax1 = sns.lineplot(x=x, y=y_comp_f1, color=blue, linestyle='--')\n",
    "            ax2 = sns.lineplot(x=x, y=y_noncomp_f1, color=green, linestyle='--')\n",
    "\n",
    "            plt.xlabel(r\"training ratio\")\n",
    "            ax2.set_xticks(ratios)\n",
    "            ax2.set_xticklabels(ratios, rotation=90)\n",
    "            plt.ylabel(\"performance\")\n",
    "\n",
    "            if model == \"LSTM\":\n",
    "                plt.legend([], [], frameon=False)\n",
    "            else:\n",
    "                plt.legend(frameon=False)\n",
    "            plt.xlim(0.01, 0.5)\n",
    "            plt.ylim(0.15, 0.60)\n",
    "            plt.savefig(f\"figures/{model}_metric={metric}_bottleneck={bottleneck}.pdf\", bbox_inches=\"tight\")\n",
    "            plt.show()"
   ]
  }
 ],
 "metadata": {
  "kernelspec": {
   "display_name": "Python 3 (ipykernel)",
   "language": "python",
   "name": "python3"
  },
  "language_info": {
   "codemirror_mode": {
    "name": "ipython",
    "version": 3
   },
   "file_extension": ".py",
   "mimetype": "text/x-python",
   "name": "python",
   "nbconvert_exporter": "python",
   "pygments_lexer": "ipython3",
   "version": "3.9.13"
  }
 },
 "nbformat": 4,
 "nbformat_minor": 5
}
